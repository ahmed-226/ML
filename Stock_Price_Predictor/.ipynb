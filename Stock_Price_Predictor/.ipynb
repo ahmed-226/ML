{
 "cells": [
  {
   "cell_type": "code",
   "execution_count": 2,
   "metadata": {},
   "outputs": [],
   "source": [
    "import numpy as np\n",
    "import pandas as pd\n",
    "import yfinance as yf\n",
    "\n",
    "import seaborn as sns\n",
    "import matplotlib.pyplot as plt\n",
    "%matplotlib inline"
   ]
  },
  {
   "cell_type": "code",
   "execution_count": 5,
   "metadata": {},
   "outputs": [
    {
     "name": "stderr",
     "output_type": "stream",
     "text": [
      "[*********************100%%**********************]  1 of 1 completed\n"
     ]
    },
    {
     "data": {
      "text/html": [
       "<div>\n",
       "<style scoped>\n",
       "    .dataframe tbody tr th:only-of-type {\n",
       "        vertical-align: middle;\n",
       "    }\n",
       "\n",
       "    .dataframe tbody tr th {\n",
       "        vertical-align: top;\n",
       "    }\n",
       "\n",
       "    .dataframe thead th {\n",
       "        text-align: right;\n",
       "    }\n",
       "</style>\n",
       "<table border=\"1\" class=\"dataframe\">\n",
       "  <thead>\n",
       "    <tr style=\"text-align: right;\">\n",
       "      <th></th>\n",
       "      <th>Open</th>\n",
       "      <th>High</th>\n",
       "      <th>Low</th>\n",
       "      <th>Close</th>\n",
       "      <th>Volume</th>\n",
       "    </tr>\n",
       "    <tr>\n",
       "      <th>Date</th>\n",
       "      <th></th>\n",
       "      <th></th>\n",
       "      <th></th>\n",
       "      <th></th>\n",
       "      <th></th>\n",
       "    </tr>\n",
       "  </thead>\n",
       "  <tbody>\n",
       "    <tr>\n",
       "      <th>2008-01-02</th>\n",
       "      <td>7.572</td>\n",
       "      <td>7.876</td>\n",
       "      <td>7.564</td>\n",
       "      <td>7.850</td>\n",
       "      <td>68553</td>\n",
       "    </tr>\n",
       "    <tr>\n",
       "      <th>2008-01-03</th>\n",
       "      <td>7.873</td>\n",
       "      <td>7.980</td>\n",
       "      <td>7.610</td>\n",
       "      <td>7.674</td>\n",
       "      <td>72742</td>\n",
       "    </tr>\n",
       "    <tr>\n",
       "      <th>2008-01-04</th>\n",
       "      <td>7.652</td>\n",
       "      <td>7.859</td>\n",
       "      <td>7.500</td>\n",
       "      <td>7.841</td>\n",
       "      <td>61496</td>\n",
       "    </tr>\n",
       "    <tr>\n",
       "      <th>2008-01-07</th>\n",
       "      <td>7.803</td>\n",
       "      <td>7.940</td>\n",
       "      <td>7.701</td>\n",
       "      <td>7.879</td>\n",
       "      <td>56675</td>\n",
       "    </tr>\n",
       "    <tr>\n",
       "      <th>2008-01-08</th>\n",
       "      <td>7.909</td>\n",
       "      <td>7.997</td>\n",
       "      <td>7.880</td>\n",
       "      <td>7.967</td>\n",
       "      <td>53775</td>\n",
       "    </tr>\n",
       "  </tbody>\n",
       "</table>\n",
       "</div>"
      ],
      "text/plain": [
       "             Open   High    Low  Close  Volume\n",
       "Date                                          \n",
       "2008-01-02  7.572  7.876  7.564  7.850   68553\n",
       "2008-01-03  7.873  7.980  7.610  7.674   72742\n",
       "2008-01-04  7.652  7.859  7.500  7.841   61496\n",
       "2008-01-07  7.803  7.940  7.701  7.879   56675\n",
       "2008-01-08  7.909  7.997  7.880  7.967   53775"
      ]
     },
     "execution_count": 5,
     "metadata": {},
     "output_type": "execute_result"
    }
   ],
   "source": [
    "stocks=input(\"Enter the stock symbols separated by commas: \")\n",
    "data=yf.download(stocks, \"2008-01-01\", \"2021-01-18\",auto_adjust=True)\n",
    "data.head()"
   ]
  },
  {
   "cell_type": "code",
   "execution_count": 13,
   "metadata": {},
   "outputs": [
    {
     "name": "stdout",
     "output_type": "stream",
     "text": [
      "(3282, 5)\n"
     ]
    }
   ],
   "source": [
    "print(data.shape)"
   ]
  },
  {
   "cell_type": "code",
   "execution_count": 14,
   "metadata": {},
   "outputs": [
    {
     "name": "stdout",
     "output_type": "stream",
     "text": [
      "<class 'pandas.core.frame.DataFrame'>\n",
      "DatetimeIndex: 3282 entries, 2008-01-02 to 2021-01-15\n",
      "Data columns (total 5 columns):\n",
      " #   Column  Non-Null Count  Dtype  \n",
      "---  ------  --------------  -----  \n",
      " 0   Open    3282 non-null   float64\n",
      " 1   High    3282 non-null   float64\n",
      " 2   Low     3282 non-null   float64\n",
      " 3   Close   3282 non-null   float64\n",
      " 4   Volume  3282 non-null   int64  \n",
      "dtypes: float64(4), int64(1)\n",
      "memory usage: 153.8 KB\n"
     ]
    }
   ],
   "source": [
    "data.info()"
   ]
  },
  {
   "cell_type": "code",
   "execution_count": 6,
   "metadata": {},
   "outputs": [
    {
     "data": {
      "text/html": [
       "<div>\n",
       "<style scoped>\n",
       "    .dataframe tbody tr th:only-of-type {\n",
       "        vertical-align: middle;\n",
       "    }\n",
       "\n",
       "    .dataframe tbody tr th {\n",
       "        vertical-align: top;\n",
       "    }\n",
       "\n",
       "    .dataframe thead th {\n",
       "        text-align: right;\n",
       "    }\n",
       "</style>\n",
       "<table border=\"1\" class=\"dataframe\">\n",
       "  <thead>\n",
       "    <tr style=\"text-align: right;\">\n",
       "      <th></th>\n",
       "      <th>Open</th>\n",
       "      <th>High</th>\n",
       "      <th>Low</th>\n",
       "      <th>Close</th>\n",
       "      <th>Volume</th>\n",
       "    </tr>\n",
       "  </thead>\n",
       "  <tbody>\n",
       "    <tr>\n",
       "      <th>count</th>\n",
       "      <td>3282.000000</td>\n",
       "      <td>3282.000000</td>\n",
       "      <td>3282.000000</td>\n",
       "      <td>3282.000000</td>\n",
       "      <td>3282.000000</td>\n",
       "    </tr>\n",
       "    <tr>\n",
       "      <th>mean</th>\n",
       "      <td>3.713705</td>\n",
       "      <td>3.787288</td>\n",
       "      <td>3.635038</td>\n",
       "      <td>3.707074</td>\n",
       "      <td>131397.603595</td>\n",
       "    </tr>\n",
       "    <tr>\n",
       "      <th>std</th>\n",
       "      <td>1.830425</td>\n",
       "      <td>1.865744</td>\n",
       "      <td>1.789584</td>\n",
       "      <td>1.825297</td>\n",
       "      <td>54393.040171</td>\n",
       "    </tr>\n",
       "    <tr>\n",
       "      <th>min</th>\n",
       "      <td>1.441000</td>\n",
       "      <td>1.567000</td>\n",
       "      <td>1.432000</td>\n",
       "      <td>1.482000</td>\n",
       "      <td>0.000000</td>\n",
       "    </tr>\n",
       "    <tr>\n",
       "      <th>25%</th>\n",
       "      <td>2.691250</td>\n",
       "      <td>2.736500</td>\n",
       "      <td>2.644000</td>\n",
       "      <td>2.693000</td>\n",
       "      <td>91744.250000</td>\n",
       "    </tr>\n",
       "    <tr>\n",
       "      <th>50%</th>\n",
       "      <td>3.253000</td>\n",
       "      <td>3.312000</td>\n",
       "      <td>3.183500</td>\n",
       "      <td>3.240500</td>\n",
       "      <td>126669.500000</td>\n",
       "    </tr>\n",
       "    <tr>\n",
       "      <th>75%</th>\n",
       "      <td>4.157750</td>\n",
       "      <td>4.244750</td>\n",
       "      <td>4.066750</td>\n",
       "      <td>4.152000</td>\n",
       "      <td>161490.500000</td>\n",
       "    </tr>\n",
       "    <tr>\n",
       "      <th>max</th>\n",
       "      <td>13.580000</td>\n",
       "      <td>13.694000</td>\n",
       "      <td>13.306000</td>\n",
       "      <td>13.577000</td>\n",
       "      <td>459196.000000</td>\n",
       "    </tr>\n",
       "  </tbody>\n",
       "</table>\n",
       "</div>"
      ],
      "text/plain": [
       "              Open         High          Low        Close         Volume\n",
       "count  3282.000000  3282.000000  3282.000000  3282.000000    3282.000000\n",
       "mean      3.713705     3.787288     3.635038     3.707074  131397.603595\n",
       "std       1.830425     1.865744     1.789584     1.825297   54393.040171\n",
       "min       1.441000     1.567000     1.432000     1.482000       0.000000\n",
       "25%       2.691250     2.736500     2.644000     2.693000   91744.250000\n",
       "50%       3.253000     3.312000     3.183500     3.240500  126669.500000\n",
       "75%       4.157750     4.244750     4.066750     4.152000  161490.500000\n",
       "max      13.580000    13.694000    13.306000    13.577000  459196.000000"
      ]
     },
     "execution_count": 6,
     "metadata": {},
     "output_type": "execute_result"
    }
   ],
   "source": [
    "data.describe()"
   ]
  },
  {
   "cell_type": "code",
   "execution_count": 11,
   "metadata": {},
   "outputs": [
    {
     "data": {
      "image/png": "[encoded data removed]",
      "text/plain": [
       "<Figure size 1000x700 with 1 Axes>"
      ]
     },
     "metadata": {},
     "output_type": "display_data"
    }
   ],
   "source": [
    "data.Close.plot(figsize=(10, 7),color='blue')\n",
    "plt.ylabel(\"Stock Prices\".format(stocks))\n",
    "plt.title(\"Stock Prices\".format(stocks))\n",
    "plt.show()"
   ]
  },
  {
   "cell_type": "code",
   "execution_count": 20,
   "metadata": {},
   "outputs": [
    {
     "data": {
      "text/plain": [
       "<seaborn.axisgrid.FacetGrid at 0x1e2046af680>"
      ]
     },
     "execution_count": 20,
     "metadata": {},
     "output_type": "execute_result"
    },
    {
     "data": {
      "image/png": "[encoded data removed]",
      "text/plain": [
       "<Figure size 500x500 with 1 Axes>"
      ]
     },
     "metadata": {},
     "output_type": "display_data"
    }
   ],
   "source": [
    "sns.displot(data['Close'])"
   ]
  },
  {
   "cell_type": "code",
   "execution_count": 21,
   "metadata": {},
   "outputs": [
    {
     "data": {
      "text/plain": [
       "<seaborn.axisgrid.FacetGrid at 0x1e20a25cef0>"
      ]
     },
     "execution_count": 21,
     "metadata": {},
     "output_type": "execute_result"
    },
    {
     "data": {
      "image/png": "[encoded data removed]",
      "text/plain": [
       "<Figure size 500x500 with 1 Axes>"
      ]
     },
     "metadata": {},
     "output_type": "display_data"
    }
   ],
   "source": [
    "sns.displot(data['Open'])"
   ]
  },
  {
   "cell_type": "code",
   "execution_count": 23,
   "metadata": {},
   "outputs": [
    {
     "data": {
      "text/plain": [
       "<seaborn.axisgrid.FacetGrid at 0x1e20a3f7c50>"
      ]
     },
     "execution_count": 23,
     "metadata": {},
     "output_type": "execute_result"
    },
    {
     "data": {
      "image/png": "[encoded data removed]",
      "text/plain": [
       "<Figure size 500x500 with 1 Axes>"
      ]
     },
     "metadata": {},
     "output_type": "display_data"
    }
   ],
   "source": [
    "sns.displot(data['High'])"
   ]
  },
  {
   "cell_type": "code",
   "execution_count": 25,
   "metadata": {},
   "outputs": [
    {
     "name": "stdout",
     "output_type": "stream",
     "text": [
      "X train data shape (2625, 4)\n",
      "X test data shape (657, 4)\n",
      "y train data shape (2625,)\n",
      "y test data shape (657,)\n"
     ]
    }
   ],
   "source": [
    "# Learning data in different models\n",
    "# data is very non linear\n",
    "\n",
    "X=data.drop('Close',axis=1)\n",
    "y=data['Close']\n",
    "\n",
    "from sklearn.model_selection import train_test_split\n",
    "X_train, X_test, y_train, y_test = train_test_split(X, y, test_size=0.2, random_state=42)\n",
    "\n",
    "print(\"X train data shape\",X_train.shape)\n",
    "print(\"X test data shape\",X_test.shape)\n",
    "print(\"y train data shape\",y_train.shape)\n",
    "print(\"y test data shape\",y_test.shape)\n"
   ]
  },
  {
   "cell_type": "code",
   "execution_count": 26,
   "metadata": {},
   "outputs": [],
   "source": [
    "from sklearn.linear_model import LinearRegression\n",
    "\n",
    "lr=LinearRegression()\n",
    "lr.fit(X_train,y_train)\n",
    "\n",
    "y_hat=lr.predict(X_test)"
   ]
  },
  {
   "cell_type": "code",
   "execution_count": 27,
   "metadata": {},
   "outputs": [
    {
     "data": {
      "text/plain": [
       "array([ 3.83019219,  3.47313796,  2.87406809,  3.80620424,  2.57759868,\n",
       "        2.232131  ,  2.85302805,  5.68208257,  3.67209084,  4.13720952,\n",
       "        1.75062183,  5.82750476,  4.05391444,  5.48907306,  4.29216737,\n",
       "        3.08202241,  2.52294158,  4.00205412,  2.49664994,  2.95594217,\n",
       "        3.65201616,  3.37884446,  4.85117162,  3.91404267,  1.99344795,\n",
       "       11.54530512,  2.89753604,  4.60487719,  3.05508498,  9.38751446,\n",
       "        3.00451494,  5.46902223,  3.95916214, 11.25794985,  2.62246528,\n",
       "        3.1543544 ,  2.26413496,  2.86784235,  2.94946557,  2.53538423,\n",
       "        2.72384783,  2.29996489,  3.80163457,  2.96489309,  3.56885202,\n",
       "        1.64711675,  2.81766265,  8.68958623,  3.92674805,  9.96303892,\n",
       "        4.4981776 ,  2.10995805,  3.57998536,  1.85936209,  4.79595458,\n",
       "        2.63365331,  2.95184353,  4.62054248,  4.40709762,  2.80338007,\n",
       "        3.25846903,  1.64186774,  2.24837235,  3.89992431,  4.85842873,\n",
       "        9.98057871,  6.82101452,  2.17894188,  3.8338919 ,  2.15144541,\n",
       "        2.64961039,  2.08241469,  2.30767688,  2.2664295 ,  3.5813688 ,\n",
       "        2.18235741,  2.81387932,  3.7263045 ,  2.76181177,  4.16545085,\n",
       "        2.65202139,  3.23099881,  1.66290488,  4.49157601,  4.4685135 ,\n",
       "        4.39748974,  2.57892975,  4.16054437,  2.74864182,  2.18285884,\n",
       "        3.1303031 ,  4.6930218 ,  3.47210717,  2.07998934,  2.27320247,\n",
       "        4.37846933, 11.29684955,  6.806855  ,  3.27265609,  8.03623665,\n",
       "        4.52777098,  3.25468571,  3.68433817,  5.96245955,  4.7741958 ,\n",
       "        2.14170504,  3.66906401,  7.8824648 ,  2.98482989,  2.88223738,\n",
       "        2.86634905,  1.82309457,  5.60311626,  3.91451821, 11.54594369,\n",
       "        3.94297071,  3.02192911,  8.99625016,  4.23672371,  2.99436671,\n",
       "        5.48945855,  7.15864848,  1.83470954,  2.78484935,  2.80173905,\n",
       "        7.7692359 ,  4.71386212,  2.04761649,  1.87825574,  2.98907724,\n",
       "        2.68693279,  3.27620556,  5.87977367, 10.61362502,  4.29846197,\n",
       "        2.87126216,  3.67609099,  2.96510674,  1.76687744,  4.59662616,\n",
       "        4.02294041,  4.35799365,  2.8350476 ,  2.61506728,  3.94331625,\n",
       "        2.80964151,  4.39487023,  4.07198845,  2.65328896,  2.63890995,\n",
       "        6.88406803,  3.78267864,  3.75841094,  4.27441897,  4.67830068,\n",
       "        3.85569133,  3.55694758,  3.72930121,  4.21010746,  2.32490949,\n",
       "        3.0853118 ,  3.85021873,  2.32920393,  2.71302843,  3.66690046,\n",
       "        4.11571815,  2.8121174 ,  3.89251021,  2.698139  ,  2.67353936,\n",
       "        2.98517383,  2.86642089,  4.12765998,  3.92722335,  3.06289778,\n",
       "        8.19056772,  3.21817229,  3.18006272,  3.00402211,  9.02837249,\n",
       "        8.24696215,  3.04137665,  6.12014284,  3.51768234,  3.51322426,\n",
       "        3.69118894,  4.7884147 ,  4.66939466,  2.82511371,  2.95190713,\n",
       "        2.90554451,  3.54987251,  4.1763087 ,  4.74673288,  2.91526833,\n",
       "        3.3145199 ,  2.80923514,  4.17877205,  3.70366049,  1.98917168,\n",
       "        7.32720071,  4.54472628,  4.10669356,  3.9100436 ,  2.34563033,\n",
       "        2.91245407,  2.72117258,  4.14781457,  9.24460649,  4.90897813,\n",
       "        3.84301707,  2.68482864,  7.64599096,  2.29304206,  7.22580381,\n",
       "        4.49287705,  4.36636811,  2.78055541,  2.8303698 ,  7.37218226,\n",
       "        3.20637881,  9.69168953,  2.34810012,  1.67899834,  1.81725398,\n",
       "        2.35835862,  2.29158433,  2.19490202,  2.82578636,  2.46611884,\n",
       "        2.28352289,  5.66210999,  3.6279553 ,  3.86843722,  2.15920112,\n",
       "        6.5969858 ,  3.60592291,  2.73525313,  2.96645581,  3.05020857,\n",
       "        4.26703239,  2.55225674,  4.23848538,  2.67525466,  9.44711934,\n",
       "        2.29037104,  1.80630201,  3.95561996,  2.04645641,  3.56545745,\n",
       "        4.28035686,  2.77443002,  2.05019039,  2.48819259,  2.48260189,\n",
       "        6.01065918,  2.65781679,  2.55639255,  3.26237619,  4.40863671,\n",
       "        2.85284439,  4.29969602,  2.83920239,  1.71618516,  3.6857727 ,\n",
       "        4.41886103,  3.65787292,  4.71558535,  4.15586123,  5.01073777,\n",
       "        2.92627871,  3.80946065,  3.61459377,  4.25291107, 13.01995079,\n",
       "        2.27345826,  3.14796693,  1.98406133,  4.6232903 ,  4.3841958 ,\n",
       "        1.8700381 ,  3.6652883 ,  4.31979215,  2.46894881,  4.50532179,\n",
       "        2.76596564,  7.13604818,  3.88723721,  2.80844683,  3.90446178,\n",
       "        4.48807961,  2.93454777,  2.92053417,  2.57835362,  3.52365199,\n",
       "        3.42377279,  1.75664268,  2.57679296,  3.63697191,  9.89578316,\n",
       "        2.7534243 ,  6.74256882,  1.67075946,  2.61772151,  6.09407765,\n",
       "        1.71233518,  5.32578388,  1.76297495,  5.91527114,  4.36835177,\n",
       "        4.88136272,  1.92866441,  4.84103448,  2.38320812,  3.29653896,\n",
       "        3.55806615,  3.65713704,  3.71805784,  3.55829704,  4.16165138,\n",
       "        3.09387758,  2.88096495,  4.35270072,  1.93081528,  3.31260557,\n",
       "        7.81457755,  3.40167057,  4.43985999,  1.92736355,  2.61675449,\n",
       "        2.72778773,  3.91843078,  2.23702579,  1.7048694 ,  6.67023578,\n",
       "        2.37666321,  4.54716159,  3.13839913,  3.76496221,  4.50636581,\n",
       "        2.83026817,  8.64391496,  3.15426386,  3.11191294,  2.80269836,\n",
       "        4.39411631,  2.72124967,  2.94238338,  1.62226475,  9.00088855,\n",
       "        7.79789564,  4.00994313,  3.0415587 ,  2.52161466,  2.8351988 ,\n",
       "        2.80827368,  4.49545092,  2.33141808,  5.96019953,  2.759945  ,\n",
       "        4.38048165,  3.77604442,  3.3208312 ,  3.53341152,  1.75716651,\n",
       "        2.49477787,  3.07590861,  7.4736096 ,  2.92626012,  4.09667946,\n",
       "        2.41666919,  4.38588253,  2.81033807,  2.73872383,  4.343636  ,\n",
       "        2.51931777,  3.57295301,  2.88037547,  3.93107171,  5.30357382,\n",
       "        5.80104167,  4.20252634,  2.38077233,  4.5837842 ,  3.94550747,\n",
       "        2.70656464,  8.09837207,  4.16434114,  3.66831728,  3.56994889,\n",
       "        2.9309301 ,  3.57167534,  2.43903958,  3.49534794,  2.80151507,\n",
       "        1.82006543,  4.1696996 ,  3.67464968,  3.32931985,  2.38418128,\n",
       "        3.36416401,  2.65049426,  4.10396948,  3.92275503,  2.96831476,\n",
       "        7.36421036,  2.06115475,  2.40793687,  4.03837065,  1.59731265,\n",
       "        4.12712365,  3.6152494 ,  2.72667359,  2.26731655,  4.25023883,\n",
       "        2.10783145,  4.00847723,  1.62466154,  2.15947212,  3.19222766,\n",
       "        4.00209083,  3.72130532,  3.86800921,  2.25874967,  3.77035845,\n",
       "        3.91984315,  3.02838396,  3.06884748,  4.96198105,  2.76056619,\n",
       "        2.90104847,  1.9433052 ,  3.74332729,  4.3977891 ,  3.99618941,\n",
       "        5.29563993,  2.99677387,  2.01513762,  1.8109607 ,  4.52402976,\n",
       "        2.80917642,  6.57349521,  3.8089968 ,  2.91397655,  3.22368064,\n",
       "        1.78037249, 11.30446252,  4.74471692,  3.98762196,  2.91940151,\n",
       "        2.54427214,  4.53649139,  2.34336308,  3.17171047,  2.69526787,\n",
       "        2.96374741,  4.55527355,  2.64223392,  5.72281878,  3.28929468,\n",
       "        4.34971922,  4.6621945 ,  4.13792118,  8.1168619 ,  1.85328035,\n",
       "        4.54270536,  1.97041687,  4.2379955 ,  3.13754895,  3.83974554,\n",
       "        4.06597935,  3.78112233,  4.48061981,  2.6517053 ,  3.01754163,\n",
       "        1.61706256,  2.86021977,  1.81603987,  2.17165864,  3.63932921,\n",
       "        4.32611446, 10.04709161,  2.85527552,  1.72294798,  2.25536627,\n",
       "        3.09424657,  2.89822829,  8.73672441,  3.85934176,  3.5739563 ,\n",
       "        2.75970604,  3.00111795,  4.64999312,  2.86176073,  4.83678079,\n",
       "        9.44859911,  4.94510644,  1.829053  ,  2.61352537,  1.8731524 ,\n",
       "        4.2554387 ,  2.29837951,  4.30372448,  8.00717845, 13.38351241,\n",
       "        4.45545775,  2.02874279,  2.923007  ,  2.6239189 ,  2.20232796,\n",
       "        3.8077361 ,  2.65396452,  4.7168829 ,  2.96264495,  3.24189866,\n",
       "        3.18018676,  3.5737865 ,  7.46955153,  4.23504403,  2.52421772,\n",
       "        3.80672914,  2.33159389,  2.57861897,  2.8155698 ,  2.59860659,\n",
       "        7.47482742,  4.08938705,  2.38665939,  2.83513221,  1.79601197,\n",
       "        3.9347278 ,  3.96085253,  2.43206926,  1.87354826,  4.80187641,\n",
       "        4.76483462,  2.95966312,  4.13245027,  9.12721132,  1.84176463,\n",
       "        3.92099471,  1.99471725,  4.39817575,  3.86878572,  4.26079616,\n",
       "        2.39826682,  2.29274592,  3.27018897,  6.74769156,  5.38872474,\n",
       "        3.93568755,  2.26559272,  4.24321588,  2.33394763,  4.18599505,\n",
       "        3.4638332 ,  2.75900063,  3.58158902,  7.86827096,  3.873801  ,\n",
       "        2.60350263,  3.73760888,  3.46057307,  4.57816442,  2.50178559,\n",
       "        3.93491178,  2.10997144,  2.40746309,  4.19576675,  2.3812481 ,\n",
       "        4.26055583,  1.82129754,  3.50377799, 10.39957901,  9.94236939,\n",
       "        4.52977073,  3.84939006,  2.22718083,  2.93854187,  3.82767692,\n",
       "        2.85233331,  2.32317835,  3.96808641,  4.02479693,  4.01809924,\n",
       "        2.49250741,  2.59618441,  2.39319818,  2.10713057,  2.8551531 ,\n",
       "        2.57693942,  2.65756998,  2.98811414,  2.66349656,  3.70714689,\n",
       "        4.56125067,  4.87435847,  2.32149504,  3.19862848,  3.96912739,\n",
       "        2.62769488,  4.28433142,  3.08053896,  2.89431964,  2.80096128,\n",
       "        2.08596676,  4.41654443,  3.81574258,  3.15983348,  3.14859697,\n",
       "        3.14340655,  1.84493422,  2.70847746,  2.70048132, 12.78298956,\n",
       "        3.13158897,  4.17665795,  3.60531496,  4.47468168,  2.59890815,\n",
       "        2.69245594,  3.52407322,  2.03071929,  2.91042428,  2.88857271,\n",
       "        2.8910425 ,  2.63868963,  2.14115807,  3.02458065,  3.09350858,\n",
       "        3.61502473,  4.21075401,  4.68408764,  2.58271215,  3.87820539,\n",
       "        9.39102473,  2.81047947,  2.03796428,  3.16111559,  3.097488  ,\n",
       "        4.55959267,  1.89815292,  4.26158701,  5.34056786,  3.04722255,\n",
       "        1.63856445,  2.77524636,  3.65093739,  2.60896275,  4.20217585,\n",
       "        3.96545825,  9.92470843,  2.32768842,  2.41560192,  3.09148016,\n",
       "        3.88081133,  2.99779812])"
      ]
     },
     "execution_count": 27,
     "metadata": {},
     "output_type": "execute_result"
    }
   ],
   "source": [
    "y_hat"
   ]
  },
  {
   "cell_type": "code",
   "execution_count": 29,
   "metadata": {},
   "outputs": [
    {
     "name": "stdout",
     "output_type": "stream",
     "text": [
      "Mean Squared Error:  0.001972836301429629\n",
      "Root Mean Squared Error:  0.044416621904751256\n",
      "R2 Score:  0.9994434122669321\n"
     ]
    }
   ],
   "source": [
    "from sklearn.metrics import mean_squared_error,r2_score\n",
    "\n",
    "def calcuulate_metrics(y_test,y_hat):\n",
    "    mse=mean_squared_error(y_test,y_hat)\n",
    "    rmse=np.sqrt(mse)\n",
    "    r2=r2_score(y_test,y_hat)\n",
    "\n",
    "    print(\"Mean Squared Error: \",mse)\n",
    "    print(\"Root Mean Squared Error: \",rmse)\n",
    "    print(\"R2 Score: \",r2)\n",
    "\n",
    "calcuulate_metrics(y_test,y_hat)"
   ]
  }
 ],
 "metadata": {
  "kernelspec": {
   "display_name": "Python 3",
   "language": "python",
   "name": "python3"
  },
  "language_info": {
   "codemirror_mode": {
    "name": "ipython",
    "version": 3
   },
   "file_extension": ".py",
   "mimetype": "text/x-python",
   "name": "python",
   "nbconvert_exporter": "python",
   "pygments_lexer": "ipython3",
   "version": "3.12.0"
  }
 },
 "nbformat": 4,
 "nbformat_minor": 2
}
